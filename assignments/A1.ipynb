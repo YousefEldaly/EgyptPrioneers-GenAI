{
 "cells": [
  {
   "cell_type": "code",
   "execution_count": 1,
   "id": "fcffffbb-18ac-42da-8df1-5868a8325fb2",
   "metadata": {},
   "outputs": [],
   "source": [
    "import numpy as np\n",
    "import matplotlib.pyplot as plt\n",
    "import tensorflow as tf\n",
    "import random\n",
    "import matplotlib.pyplot as plt\n",
    "from tensorflow.keras import Input\n",
    "from tensorflow.keras.models import Sequential\n",
    "from tensorflow.keras.layers import Dense\n",
    "mnist = tf.keras.datasets.mnist"
   ]
  },
  {
   "cell_type": "code",
   "execution_count": 2,
   "id": "461fa878-53de-4601-ae45-8da08936508c",
   "metadata": {},
   "outputs": [
    {
     "data": {
      "text/plain": [
       "(60000, 28, 28)"
      ]
     },
     "execution_count": 2,
     "metadata": {},
     "output_type": "execute_result"
    }
   ],
   "source": [
    "(x_train, y_train), (x_test, y_test) = mnist.load_data()\n",
    "x_train.shape"
   ]
  },
  {
   "cell_type": "code",
   "execution_count": 3,
   "id": "ce941d17-3ba5-4f61-9ddd-1c3e61f41fa0",
   "metadata": {},
   "outputs": [
    {
     "name": "stdout",
     "output_type": "stream",
     "text": [
      "[[  0   0   0   0   0   0   0   0   0   0   0   0   0   0   0   0   0   0\n",
      "    0   0   0   0   0   0   0   0   0   0]\n",
      " [  0   0   0   0   0   0   0   0   0   0   0   0   0   0   0   0   0   0\n",
      "    0   0   0   0   0   0   0   0   0   0]\n",
      " [  0   0   0   0   0   0   0   0   0   0   0   0   0   0   0   0   0   0\n",
      "    0   0   0   0   0   0   0   0   0   0]\n",
      " [  0   0   0   0   0   0   0   0   0   0   0   0   0   0   0   0   0   0\n",
      "    0   0   0   0   0   0   0   0   0   0]\n",
      " [  0   0   0   0   0   0   0   0   0   0   0   0   0   0   0   0   0  38\n",
      "  190  25   0   0   0   0   0   0   0   0]\n",
      " [  0   0   0  13  25  10   0   0   0   0   0   0   0   0   0   0   0 112\n",
      "  252 125   4   0   0   0   0   0   0   0]\n",
      " [  0   0   0 132 252 113   0   0   0   0   0   0   0   0   0   0   0  61\n",
      "  252 252  36   0   0   0   0   0   0   0]\n",
      " [  0   0   0 132 252 240  79   0   0   0   0   0   0   0   0   0   0  84\n",
      "  252 252  36   0   0   0   0   0   0   0]\n",
      " [  0   0   0 132 252 252 238  52   0   0   0   0   0   0   0   0  12 198\n",
      "  252 252 122   0   0   0   0   0   0   0]\n",
      " [  0   0   0  99 252 252 252 181  17   0   0   0   0   0   0   0  49 252\n",
      "  252 252 122   0   0   0   0   0   0   0]\n",
      " [  0   0   0   3 125 252 252 252 100   0   0   0   0   0   0   0  26 218\n",
      "  252 252  36   0   0   0   0   0   0   0]\n",
      " [  0   0   0   0  15 216 252 252 207  19   0   0   0   0   0   0  49 252\n",
      "  252 252  36   0   0   0   0   0   0   0]\n",
      " [  0   0   0   0   0 157 252 252 252  48   0   0   0   6 109 109 194 252\n",
      "  252 252  36   0   0   0   0   0   0   0]\n",
      " [  0   0   0   0   0 100 252 252 252 105   0  58 116 128 252 252 252 252\n",
      "  252 212  19   0   0   0   0   0   0   0]\n",
      " [  0   0   0   0   0   0 164 253 253 253 253 253 253 255 253 253 253 253\n",
      "  253 253  99   0   0   0   0   0   0   0]\n",
      " [  0   0   0   0   0   0  49 252 252 252 252 252 252 253 252 252 252 252\n",
      "  252 252 155   0   0   0   0   0   0   0]\n",
      " [  0   0   0   0   0   0  49 252 252 252 252 252 252 217 216 141 126 252\n",
      "  252 252 155   0   0   0   0   0   0   0]\n",
      " [  0   0   0   0   0   0  49 252 252 252 234 204  89   0   0   0  49 252\n",
      "  252 252 155   0   0   0   0   0   0   0]\n",
      " [  0   0   0   0   0   0  14 158 192 151  45   0   0   0   0   0  49 252\n",
      "  252 252 225  17   0   0   0   0   0   0]\n",
      " [  0   0   0   0   0   0   0   0   0   0   0   0   0   0   0   0  49 252\n",
      "  252 252 252  23   0   0   0   0   0   0]\n",
      " [  0   0   0   0   0   0   0   0   0   0   0   0   0   0   0   0  33 228\n",
      "  252 252 252 157   4   0   0   0   0   0]\n",
      " [  0   0   0   0   0   0   0   0   0   0   0   0   0   0   0   0   0  55\n",
      "  229 252 252 252  11   0   0   0   0   0]\n",
      " [  0   0   0   0   0   0   0   0   0   0   0   0   0   0   0   0   0   0\n",
      "   53 232 252 252  63   0   0   0   0   0]\n",
      " [  0   0   0   0   0   0   0   0   0   0   0   0   0   0   0   0   0   0\n",
      "    0  90 206 131  11   0   0   0   0   0]\n",
      " [  0   0   0   0   0   0   0   0   0   0   0   0   0   0   0   0   0   0\n",
      "    0   0   0   0   0   0   0   0   0   0]\n",
      " [  0   0   0   0   0   0   0   0   0   0   0   0   0   0   0   0   0   0\n",
      "    0   0   0   0   0   0   0   0   0   0]\n",
      " [  0   0   0   0   0   0   0   0   0   0   0   0   0   0   0   0   0   0\n",
      "    0   0   0   0   0   0   0   0   0   0]\n",
      " [  0   0   0   0   0   0   0   0   0   0   0   0   0   0   0   0   0   0\n",
      "    0   0   0   0   0   0   0   0   0   0]]\n"
     ]
    },
    {
     "data": {
      "image/png": "[encoded data removed]",
      "text/plain": [
       "<Figure size 640x480 with 1 Axes>"
      ]
     },
     "metadata": {},
     "output_type": "display_data"
    }
   ],
   "source": [
    "plt.imshow(x_train[20])\n",
    "print(x_train[20])"
   ]
  },
  {
   "cell_type": "code",
   "execution_count": 4,
   "id": "12f06e4c-7d72-4005-ba45-e0112f17e3a7",
   "metadata": {},
   "outputs": [
    {
     "data": {
      "text/plain": [
       "(60000, 28, 28)"
      ]
     },
     "execution_count": 4,
     "metadata": {},
     "output_type": "execute_result"
    }
   ],
   "source": [
    "x_train = tf.keras.utils.normalize(x_train, axis=1)\n",
    "x_test = tf.keras.utils.normalize(x_test, axis=1)\n",
    "x_train.shape\n",
    "# we can use the mean and variance to make normalization\n",
    "#tf.keras.layers.Normalize()"
   ]
  },
  {
   "cell_type": "code",
   "execution_count": 5,
   "id": "2d68cf11-0c05-436f-a485-331e9239f862",
   "metadata": {},
   "outputs": [],
   "source": [
    "x_train = x_train.reshape(60000, 784)\n",
    "x_test = x_test.reshape(10000, 784)"
   ]
  },
  {
   "cell_type": "code",
   "execution_count": 6,
   "id": "7f341cca-ea49-450b-974c-7a6b9f68590a",
   "metadata": {},
   "outputs": [],
   "source": [
    "def create_model(num_neurons, num_layers, activation, shape):\n",
    "    model = Sequential()\n",
    "    for i in range(num_layers):\n",
    "        layer_name = 'layer' + str(i + 1)\n",
    "        if (i == num_layers - 1):\n",
    "            model.add(Dense(10, activation='softmax', name=layer_name))\n",
    "            return model\n",
    "        model.add(Dense(num_neurons, activation=activation, name=layer_name))\n",
    "\n",
    "    return model\n",
    "    "
   ]
  },
  {
   "cell_type": "code",
   "execution_count": 7,
   "id": "82ed0556-b55f-493c-b994-d434fb64f763",
   "metadata": {},
   "outputs": [],
   "source": [
    "def fit_model(model, x_train, y_train, num_epochs):\n",
    "    model.fit(\n",
    "        x_train,\n",
    "        y_train,\n",
    "        epochs = num_epochs,\n",
    "        verbose=2\n",
    "    )\n",
    "    return"
   ]
  },
  {
   "cell_type": "code",
   "execution_count": 8,
   "id": "0367b023-48c6-45e2-b89d-db43e1689977",
   "metadata": {},
   "outputs": [],
   "source": [
    "num_neurons_list = [2**x for x in range(2, 11)]\n",
    "num_layers_list = [x for x in range(2, 11)]\n",
    "num_epochs_list = [x for x in range(1, 22)]\n",
    "activations_list = [\"sigmoid\", \"tanh\", \"relu\", \"elu\", \"selu\"]"
   ]
  },
  {
   "cell_type": "code",
   "execution_count": null,
   "id": "a126cb48-a14d-4567-af58-10f113695492",
   "metadata": {},
   "outputs": [],
   "source": [
    "# for graphing purposes\n",
    "selected_neurons_num = []\n",
    "selected_layers_num = []\n",
    "selected_epochs_num = []\n",
    "selected_activations = []\n",
    "accuracies = []\n",
    "#\n",
    "for i in range(len(activations_list)):\n",
    "    num_neurons = 128\n",
    "    #num_neurons = random.choice(num_neurons_list)\n",
    "    selected_neurons_num.append(num_neurons)\n",
    "    num_layers = 3\n",
    "    #num_layers = random.choice(num_layers_list)\n",
    "    selected_layers_num.append(num_layers)\n",
    "    num_epochs = 3\n",
    "    #num_epochs = random.choice(num_epochs_list)\n",
    "    selected_epochs_num.append(num_epochs)\n",
    "    #activation = random.choice(activations_list)\n",
    "    activation = activations_list[i]\n",
    "    selected_activations.append(activation)\n",
    "\n",
    "    model = create_model(num_neurons, num_layers, activation, (784,))\n",
    "    model.compile(\n",
    "        loss = tf.keras.losses.SparseCategoricalCrossentropy(),\n",
    "        optimizer = tf.keras.optimizers.Adam(),\n",
    "        metrics=['accuracy'])\n",
    "    fit_model(model, x_train, y_train, num_epochs)\n",
    "    val_loss, val_accuracy = model.evaluate(x_test, y_test)\n",
    "    accuracies.append(val_accuracy)\n",
    "    print(f\"#Layers {num_layers}, #Neurons {num_neurons}, Activation: {activation}, Epochs: {num_epochs}, Accuracy: {val_accuracy}\\n\")\n",
    "\n",
    "# Plot between selected_layers_num and accuracies\n",
    "# after holding all variables constant except for number of layers\n",
    "plt.figure()\n",
    "plt.plot(selected_layers_num, accuracies, 'o')\n",
    "plt.xlabel('# Layers')\n",
    "plt.ylabel('Accuracy')\n",
    "plt.title('Accuracy vs. # Layers')\n",
    "plt.show()"
   ]
  },
  {
   "cell_type": "code",
   "execution_count": 12,
   "id": "e9c551c2-1ea9-4198-8260-6df21354ef53",
   "metadata": {},
   "outputs": [
    {
     "data": {
      "image/png": "[encoded data removed]",
      "text/plain": [
       "<Figure size 640x480 with 1 Axes>"
      ]
     },
     "metadata": {},
     "output_type": "display_data"
    }
   ],
   "source": [
    "# Plot between selected_neurons_num and accuracies\n",
    "# after holding all variables constant except for number of neurons\n",
    "plt.figure()\n",
    "plt.plot(selected_neurons_num, accuracies, 'o')\n",
    "plt.xlabel('# Neurons')\n",
    "plt.ylabel('Accuracy')\n",
    "plt.title('Accuracy vs. # Neurons')\n",
    "plt.show()"
   ]
  },
  {
   "cell_type": "code",
   "execution_count": null,
   "id": "a230b1bb-46e1-494e-9160-f5f14b43bafd",
   "metadata": {},
   "outputs": [],
   "source": [
    "\n",
    "# Plot between selected_epochs_num and accuracies\n",
    "plt.figure()\n",
    "plt.plot(selected_epochs_num, accuracies, 'o')\n",
    "plt.xlabel('# Epochs')\n",
    "plt.ylabel('Accuracy')\n",
    "plt.title('Accuracy vs. # Epochs')\n",
    "plt.show()\n",
    "\n"
   ]
  },
  {
   "cell_type": "code",
   "execution_count": 16,
   "id": "f43c5acd-e961-4d11-9c08-ad3c779d8835",
   "metadata": {},
   "outputs": [
    {
     "data": {
      "image/png": "[encoded data removed]",
      "text/plain": [
       "<Figure size 640x480 with 1 Axes>"
      ]
     },
     "metadata": {},
     "output_type": "display_data"
    }
   ],
   "source": [
    "# Plot between activation list and accuracy\n",
    "plt.figure()\n",
    "plt.plot(selected_activations, accuracies, 'o')\n",
    "plt.xlabel('Activation')\n",
    "plt.ylabel('Accuracy')\n",
    "plt.title('Accuracy vs. Activation')\n",
    "plt.xticks(rotation=45)\n",
    "plt.show()"
   ]
  },
  {
   "cell_type": "markdown",
   "id": "5e286482-5d22-4b69-aab0-eea55a15279c",
   "metadata": {},
   "source": [
    "# 1-How did changing the number of layers affect the model?\r",
    "the accuracy increased after increasing the number of layers from 2 to 3 as shown in the above graph, but after additional increase, accuracy started to fluctuate and took more time to fit the data.\n",
    "### Conclusion\n",
    "increasing the number of layers could to data overfitting which leads to lower accuracy"
   ]
  },
  {
   "cell_type": "markdown",
   "id": "91317af4-c870-4743-9754-40e3c2be6904",
   "metadata": {},
   "source": [
    "# 2-How did the number of neurons in a layer impact performance?\n",
    "As elaborated in the above graph, as increasing the number of neurons, the accuracy increases relatively.\n",
    "### H3 Conclusion\n",
    "1- If neurons number is too small, the model fail to fit the data correctly and overfits the data.\n",
    "2- We could say that there is an accuracy boundary that we could not overcome even if increasing the number of neuron. When a satisfactory accuracy reached stop increasing the number of neurons because if you did not the time taken by the model will increase and accuracy will not."
   ]
  },
  {
   "cell_type": "markdown",
   "id": "faf93e9a-dddb-4c00-9dec-d60762689d3a",
   "metadata": {},
   "source": [
    "# Did any of the activation functions lead to better or worse results than 'relu'?\n",
    "No, they didn't"
   ]
  },
  {
   "cell_type": "code",
   "execution_count": null,
   "id": "f13472cb-464e-4496-bd08-b7158bc88cca",
   "metadata": {},
   "outputs": [],
   "source": []
  },
  {
   "cell_type": "code",
   "execution_count": null,
   "id": "da212868-3096-48ca-9df2-cd76a24be5b0",
   "metadata": {},
   "outputs": [],
   "source": []
  },
  {
   "cell_type": "code",
   "execution_count": null,
   "id": "447abfa3-8603-4680-ae0e-9c89982fc28f",
   "metadata": {},
   "outputs": [],
   "source": []
  },
  {
   "cell_type": "code",
   "execution_count": null,
   "id": "c7fdfae0-2ae4-41d7-bfab-3da0b2791bae",
   "metadata": {},
   "outputs": [],
   "source": []
  },
  {
   "cell_type": "code",
   "execution_count": null,
   "id": "1e161008-b434-4b8d-b7f6-18268390bf3c",
   "metadata": {},
   "outputs": [],
   "source": []
  },
  {
   "cell_type": "code",
   "execution_count": null,
   "id": "7f67042e-4ab6-4433-aea1-491d9167d54d",
   "metadata": {},
   "outputs": [],
   "source": []
  },
  {
   "cell_type": "code",
   "execution_count": null,
   "id": "1e87287e-90f6-4bba-9b70-7e88a2a9514b",
   "metadata": {},
   "outputs": [],
   "source": []
  },
  {
   "cell_type": "code",
   "execution_count": null,
   "id": "0e74de5b-ebce-49fe-8155-b7a879a14962",
   "metadata": {},
   "outputs": [],
   "source": [
    "predictions = model.predict([x_test])\n",
    "print(predictions)"
   ]
  },
  {
   "cell_type": "code",
   "execution_count": 33,
   "id": "ae4bb589-1b32-4ac5-b1e7-c0f4e2f3c055",
   "metadata": {},
   "outputs": [
    {
     "ename": "NameError",
     "evalue": "name 'predictions' is not defined",
     "output_type": "error",
     "traceback": [
      "\u001b[1;31m---------------------------------------------------------------------------\u001b[0m",
      "\u001b[1;31mNameError\u001b[0m                                 Traceback (most recent call last)",
      "Cell \u001b[1;32mIn[33], line 1\u001b[0m\n\u001b[1;32m----> 1\u001b[0m \u001b[38;5;28mprint\u001b[39m(np\u001b[38;5;241m.\u001b[39margmax(predictions[\u001b[38;5;241m2\u001b[39m]))\n",
      "\u001b[1;31mNameError\u001b[0m: name 'predictions' is not defined"
     ]
    }
   ],
   "source": [
    "print(np.argmax(predictions[2]))"
   ]
  },
  {
   "cell_type": "code",
   "execution_count": 8,
   "id": "c0ecc3b1-68fd-4146-8174-dfad6b47b23b",
   "metadata": {},
   "outputs": [
    {
     "data": {
      "text/plain": [
       "<function matplotlib.pyplot.show(close=None, block=None)>"
      ]
     },
     "execution_count": 8,
     "metadata": {},
     "output_type": "execute_result"
    },
    {
     "data": {
      "image/png": "[encoded data removed]",
      "text/plain": [
       "<Figure size 640x480 with 1 Axes>"
      ]
     },
     "metadata": {},
     "output_type": "display_data"
    }
   ],
   "source": [
    "plt.imshow(x_test[9999])\n",
    "plt.show"
   ]
  },
  {
   "cell_type": "code",
   "execution_count": null,
   "id": "0f31e8ec-6aa6-48fe-b816-52d3fb860056",
   "metadata": {},
   "outputs": [],
   "source": []
  }
 ],
 "metadata": {
  "kernelspec": {
   "display_name": "Python 3 (ipykernel)",
   "language": "python",
   "name": "python3"
  },
  "language_info": {
   "codemirror_mode": {
    "name": "ipython",
    "version": 3
   },
   "file_extension": ".py",
   "mimetype": "text/x-python",
   "name": "python",
   "nbconvert_exporter": "python",
   "pygments_lexer": "ipython3",
   "version": "3.12.3"
  }
 },
 "nbformat": 4,
 "nbformat_minor": 5
}
